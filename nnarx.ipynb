{
 "cells": [
  {
   "cell_type": "code",
   "execution_count": 1,
   "metadata": {},
   "outputs": [
    {
     "data": {
      "text/plain": [
       "n4sidPatternArg (generic function with 1 method)"
      ]
     },
     "metadata": {},
     "output_type": "display_data"
    }
   ],
   "source": [
    "#School of Mechanical Engineering - State University of Campinas\n",
    "#Paulo Yoshio Kuga\n",
    "#First Release: October 2023\n",
    "\n",
    "#Present version: 20231001\n",
    "\n",
    "#this is the main program to run neural network identification \n",
    "\n",
    "using LinearAlgebra\n",
    "using ControlSystems\n",
    "using Plots\n",
    "using ControlSystemIdentification\n",
    "using Random\n",
    "using Statistics\n",
    "using DelimitedFiles\n",
    "using CUDA\n",
    "using Flux\n",
    "using Hyperopt\n",
    "\n",
    "\n",
    "include(\"KugaPack.jl\")\n",
    "include(\"sysid.jl\")\n",
    "include(\"blockpack.jl\")\n",
    "include(\"analysis.jl\")"
   ]
  },
  {
   "cell_type": "code",
   "execution_count": 2,
   "metadata": {},
   "outputs": [],
   "source": [
    "#numerical conditions are set up\n",
    "dt = 2.5e-4;\n",
    "maxT = 3;\n",
    "ns = round(Int,maxT/dt)+1;\n",
    "t = 0:dt:maxT;\n",
    "\n",
    "#problem conditions are set up\n",
    "x0 = [0; 0; 0; 0;];\n",
    "\n",
    "w = 6\n",
    "U = chirp(w,t)'#ones(1,ns)#chirp(w,t)';#0.01*PulseGen(ns); \n",
    "\n",
    "#using the given parameters, the system (discrete space state) is created \n",
    "Param = [0.77 0.59 2.1 1.2 9 200 200 200];\n",
    "sysP,sysD = F2DOF(dt,Param);\n",
    "\n",
    "Y,_,_= lsim(sysD,U,t,x0=x0); #time response\n",
    "magD,phaseD,w = bode(sysD); #frequency response\n"
   ]
  },
  {
   "cell_type": "code",
   "execution_count": 3,
   "metadata": {},
   "outputs": [],
   "source": [
    "#Since F2DOF is a two degree freedom problem, we can state that the number of outputs is 2\n",
    "#This implies the noise beign as (2,n)\n",
    "#In this analysis, we are using MersenneTwister as the random number generator. \n",
    "\n",
    "seed = 98832+5556594 #seed for mersenne twister\n",
    "noise = noise_gen(seed,2,ns);\n",
    "\n",
    "fineza = 1;\n",
    "\n",
    "NAmp = [i*1e-2 for i in 0:fineza:100];\n",
    "\n",
    "#identification parameters\n",
    "nx = 4;\n",
    "p = 700; #round(Int,ns/2);\n",
    "na = 4;\n",
    "nb = 1;\n",
    "ny = 2;\n",
    "nu = 1;\n",
    "it = 200;"
   ]
  },
  {
   "cell_type": "code",
   "execution_count": 4,
   "metadata": {},
   "outputs": [],
   "source": [
    "x0 = [0; 0]\n",
    "H, Yt = DataNARX(Y,U, ny, nu, na, nb,ns);\n",
    "Data = zip(H,Yt);\n",
    "\n",
    "p = 500\n",
    "model = NNARX_LSTM(ny,nu,na,nb,p)\n",
    "\n",
    "opt_state = Flux.setup(Adam(), model.nn); \n",
    "Flux.train!(model.nn, Data, opt_state) do m, x, y\n",
    "        Flux.mse(m(x), y);\n",
    "end"
   ]
  },
  {
   "cell_type": "code",
   "execution_count": 7,
   "metadata": {},
   "outputs": [
    {
     "ename": "ErrorException",
     "evalue": "Scalar indexing is disallowed.\nInvocation of getindex resulted in scalar indexing of a GPU array.\nThis is typically caused by calling an iterating implementation of a method.\nSuch implementations *do not* execute on the GPU, but very slowly on the CPU,\nand therefore are only permitted from the REPL for prototyping purposes.\nIf you did intend to index this array, annotate the caller with @allowscalar.",
     "output_type": "error",
     "traceback": [
      "Scalar indexing is disallowed.\n",
      "Invocation of getindex resulted in scalar indexing of a GPU array.\n",
      "This is typically caused by calling an iterating implementation of a method.\n",
      "Such implementations *do not* execute on the GPU, but very slowly on the CPU,\n",
      "and therefore are only permitted from the REPL for prototyping purposes.\n",
      "If you did intend to index this array, annotate the caller with @allowscalar.\n",
      "\n",
      "Stacktrace:\n",
      "  [1] error(s::String)\n",
      "    @ Base .\\error.jl:35\n",
      "  [2] assertscalar(op::String)\n",
      "    @ GPUArraysCore C:\\Users\\Protocolo\\.julia\\packages\\GPUArraysCore\\uOYfN\\src\\GPUArraysCore.jl:103\n",
      "  [3] getindex\n",
      "    @ C:\\Users\\Protocolo\\.julia\\packages\\GPUArrays\\EZkix\\src\\host\\indexing.jl:9 [inlined]\n",
      "  [4] getindex\n",
      "    @ C:\\Users\\Protocolo\\.julia\\juliaup\\julia-1.9.3+0.x64.w64.mingw32\\share\\julia\\stdlib\\v1.9\\LinearAlgebra\\src\\adjtrans.jl:302 [inlined]\n",
      "  [5] _getindex\n",
      "    @ .\\abstractarray.jl:1329 [inlined]\n",
      "  [6] getindex\n",
      "    @ .\\abstractarray.jl:1296 [inlined]\n",
      "  [7] macro expansion\n",
      "    @ .\\multidimensional.jl:889 [inlined]\n",
      "  [8] macro expansion\n",
      "    @ .\\cartesian.jl:64 [inlined]\n",
      "  [9] _unsafe_getindex!\n",
      "    @ .\\multidimensional.jl:884 [inlined]\n",
      " [10] _unsafe_getindex(::IndexLinear, ::Adjoint{Float32, CuArray{Float32, 1, CUDA.Mem.DeviceBuffer}}, ::Base.Slice{Base.OneTo{Int64}}, ::Int64)\n",
      "    @ Base .\\multidimensional.jl:875\n",
      " [11] _getindex\n",
      "    @ .\\multidimensional.jl:861 [inlined]\n",
      " [12] getindex(::Adjoint{Float32, CuArray{Float32, 1, CUDA.Mem.DeviceBuffer}}, ::Function, ::Int64)\n",
      "    @ Base .\\abstractarray.jl:1296\n",
      " [13] nnlsim(model::NNARXModel, U::Adjoint{Float64, Vector{Float64}}, x0::Vector{Int64})\n",
      "    @ Main d:\\UNICAMP\\ATUAIS\\IC\\blocolinear\\sysid.jl:234\n",
      " [14] top-level scope\n",
      "    @ d:\\UNICAMP\\ATUAIS\\IC\\blocolinear\\nnarx.ipynb:1"
     ]
    }
   ],
   "source": [
    "Ypred = nnlsim(model, U, x0);\n",
    "\n",
    "plot(t,[Y' Ypred'])\n"
   ]
  }
 ],
 "metadata": {
  "kernelspec": {
   "display_name": "Julia 1.9.3",
   "language": "julia",
   "name": "julia-1.9"
  },
  "language_info": {
   "file_extension": ".jl",
   "mimetype": "application/julia",
   "name": "julia",
   "version": "1.9.3"
  }
 },
 "nbformat": 4,
 "nbformat_minor": 2
}
