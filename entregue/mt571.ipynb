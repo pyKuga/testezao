{
 "cells": [
  {
   "cell_type": "markdown",
   "metadata": {},
   "source": [
    "## MT571 - Projeto de Implementação Computacional"
   ]
  },
  {
   "cell_type": "code",
   "execution_count": 1,
   "metadata": {},
   "outputs": [
    {
     "data": {
      "text/plain": [
       "ARX_K (generic function with 1 method)"
      ]
     },
     "metadata": {},
     "output_type": "display_data"
    }
   ],
   "source": [
    "#importacao de bibliotecas\n",
    "using LinearAlgebra\n",
    "using ControlSystems\n",
    "using Plots\n",
    "using Random\n",
    "using Statistics\n",
    "\n",
    "include(\"ARX_ON.jl\") #pacote próprio"
   ]
  },
  {
   "cell_type": "code",
   "execution_count": 2,
   "metadata": {},
   "outputs": [],
   "source": [
    "#parâmetros arbitrários de um sistema\n",
    "m = 1\n",
    "c = 2\n",
    "k = 50\n",
    "\n",
    "A = [\n",
    "    0 1;\n",
    "    -k/m -c/m\n",
    "]\n",
    "\n",
    "B = [0 ; 1/m]\n",
    "\n",
    "C = [1 0]\n",
    "\n",
    "D = 0\n",
    "#modelo de espaço de estados\n",
    "sys = ss(A,B,C,D)\n",
    "\n",
    "#condicoes numericas\n",
    "dt = 2e-5;\n",
    "maxT = 6;\n",
    "ns = round(Int,maxT/dt)+1;\n",
    "t = 0:dt:maxT;\n",
    "\n",
    "#estado inicial\n",
    "x0 = [0; 0];\n",
    "\n",
    "#força e geração do sinal de saída\n",
    "U = ones(1,ns);#PulseGen(ns); \n",
    "Y,_,_ = lsim(sys,U,t,x0);"
   ]
  },
  {
   "cell_type": "code",
   "execution_count": 3,
   "metadata": {},
   "outputs": [],
   "source": [
    "#parâmetros do ARX e dos otimizadores\n",
    "na= 2\n",
    "nb = 1\n",
    "η = (1:1000)*1e-4\n",
    "tol = 1e-5;"
   ]
  },
  {
   "cell_type": "code",
   "execution_count": 8,
   "metadata": {},
   "outputs": [
    {
     "data": {
      "text/plain": [
       "\"original_total.png\""
      ]
     },
     "metadata": {},
     "output_type": "display_data"
    }
   ],
   "source": [
    "sysARX,or_Coef = ARX_K(Y,U,na,nb,dt); #geração do sistema e dos coeficientes\n",
    "Y_or,_,_ = lsim(sysARX,U,t,x0) #resposta do ARX original\n",
    "θ = [or_Coef[2],or_Coef[3],or_Coef[1]] #implementação dos meus coeficientes, na IC, foi feita em uma ordem inversa a deste trabalho. \n",
    "\n",
    "png(\n",
    "    plot(\n",
    "\n",
    "    t, \n",
    "    [Y' Y_or'],\n",
    "    labels=[\"Sinal Original\" \"ARX\"],\n",
    "    ylabel = \"Posição (m)\", \n",
    "    xlabel=\"Tempo (s)\"\n",
    "),\n",
    "\"original_total\"\n",
    ")"
   ]
  },
  {
   "cell_type": "code",
   "execution_count": 9,
   "metadata": {},
   "outputs": [],
   "source": [
    "Arduino = ControllerInit(0.01,na,nb,tol); #inicialização da estrutura do microcontrolador\n",
    "grad_Bulid(Arduino,ns,Y,U) #geração das matrizes auxiliares do gradiente da MSE"
   ]
  },
  {
   "cell_type": "code",
   "execution_count": 19,
   "metadata": {},
   "outputs": [],
   "source": [
    "norma = zeros(1000)\n",
    "for i = 1:1000\n",
    "    Arduino.θ = [0,0,0]#rand(na+nb);\n",
    "    Arduino.η = η[i];\n",
    "    GDS(Arduino);\n",
    "    norma[i] = norm(θ-Arduino.θ,1)/norm(θ,1);\n",
    "end"
   ]
  },
  {
   "cell_type": "code",
   "execution_count": 20,
   "metadata": {},
   "outputs": [
    {
     "data": {
      "text/plain": [
       "\"000-GDS.png\""
      ]
     },
     "metadata": {},
     "output_type": "display_data"
    }
   ],
   "source": [
    "grafico = plot(\n",
    "    (1:1000)*1e-4, \n",
    "    norma, \n",
    "    labels=\"Erro na Norma\",\n",
    "    ylabel = \"ϵ\", \n",
    "    xlabel = \"η\",\n",
    "    title  = \"Erro de norma ϵ x Learning Rate η - GDS\",\n",
    ");\n",
    "\n",
    "png(grafico,\"000-GDS\")"
   ]
  },
  {
   "cell_type": "code",
   "execution_count": 21,
   "metadata": {},
   "outputs": [],
   "source": [
    "norma2 = zeros(1000)\n",
    "for i = 1:1000\n",
    "    Arduino.θ = [0,0,0]#rand(na+nb);\n",
    "    Arduino.η = η[i];\n",
    "    AdamRun(Arduino);\n",
    "    norma2[i] = norm(θ-Arduino.θ,1)/norm(θ,1);\n",
    "end"
   ]
  },
  {
   "cell_type": "code",
   "execution_count": 22,
   "metadata": {},
   "outputs": [
    {
     "data": {
      "text/plain": [
       "\"000-adam.png\""
      ]
     },
     "metadata": {},
     "output_type": "display_data"
    }
   ],
   "source": [
    "grafico = plot(\n",
    "    (1:1000)*1e-4, \n",
    "    norma2,  \n",
    "    labels=\"Erro na Norma\",\n",
    "    ylabel = \"ϵ\", \n",
    "    xlabel = \"η\",\n",
    "    title  = \"Erro de norma ϵ x Learning Rate η - ADAM\",\n",
    ");\n",
    "\n",
    "png(grafico,\"000-adam\")\n"
   ]
  }
 ],
 "metadata": {
  "kernelspec": {
   "display_name": "Julia 1.9.3",
   "language": "julia",
   "name": "julia-1.9"
  },
  "language_info": {
   "file_extension": ".jl",
   "mimetype": "application/julia",
   "name": "julia",
   "version": "1.9.3"
  }
 },
 "nbformat": 4,
 "nbformat_minor": 2
}
